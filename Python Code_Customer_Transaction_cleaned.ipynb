{
 "cells": [
  {
   "cell_type": "code",
   "execution_count": 45,
   "id": "55b76c68-1ed3-4d7e-9a94-8f28cf923d74",
   "metadata": {},
   "outputs": [],
   "source": [
    "import pandas as pd\n",
    "data = 'C:/Users/rlumbao/Downloads/customertransaction.csv'\n",
    "df = pd.read_csv(data)"
   ]
  },
  {
   "cell_type": "code",
   "execution_count": 9,
   "id": "ac5a2858-9257-48fb-9365-4963a4ebb165",
   "metadata": {},
   "outputs": [
    {
     "name": "stdout",
     "output_type": "stream",
     "text": [
      "Amount             304\n",
      "ProductCategory    299\n",
      "dtype: int64\n"
     ]
    }
   ],
   "source": [
    "import pandas as pd\n",
    "data = 'C:/Users/rlumbao/Downloads/customertransaction.csv'\n",
    "df = pd.read_csv(data)\n",
    "missing_values = df.isnull().sum()\n",
    "missing_summary = missing_values[missing_values > 0]\n",
    "print(missing_summary)"
   ]
  },
  {
   "cell_type": "code",
   "execution_count": 19,
   "id": "64564ec7-31ef-4642-9c90-3e5c3e09d81d",
   "metadata": {},
   "outputs": [
    {
     "name": "stdout",
     "output_type": "stream",
     "text": [
      "Missing ProductCategory count: 299\n",
      "Missing ProductCategory count after fill: 111\n"
     ]
    }
   ],
   "source": [
    "import pandas as pd\n",
    "data = 'C:/Users/rlumbao/Downloads/customertransaction.csv'\n",
    "df = pd.read_csv(data)\n",
    "prodcategory = df['ProductCategory']\n",
    "blank_category = df['ProductCategory'].isnull().sum()\n",
    "print(f\"Missing ProductCategory count: {blank_category}\")\n",
    "df['ProductCategory'] = df['ProductCategory'].fillna(df.groupby('CustomerID')['ProductCategory'].transform(lambda x: x.mode()[0] if not x.mode().empty else x))\n",
    "missing_count_after = df['ProductCategory'].isnull().sum()\n",
    "print(f\"Missing ProductCategory count after fill: {missing_count_after}\")"
   ]
  },
  {
   "cell_type": "code",
   "execution_count": 11,
   "id": "af5a850e-ce6b-4550-a6c7-54eab87e0566",
   "metadata": {},
   "outputs": [
    {
     "name": "stdout",
     "output_type": "stream",
     "text": [
      "Missing ProductCategory count: 299\n",
      "Missing ProductCategory count after fill: 111\n",
      "Remaining missing ProductCategory count: 0\n"
     ]
    }
   ],
   "source": [
    "import pandas as pd\n",
    "data = 'C:/Users/rlumbao/Downloads/customertransaction.csv'\n",
    "df = pd.read_csv(data)\n",
    "prodcategory = df['ProductCategory']\n",
    "blank_category = df['ProductCategory'].isnull().sum()\n",
    "print(f\"Missing ProductCategory count: {blank_category}\")\n",
    "df['ProductCategory'] = df['ProductCategory'].fillna(df.groupby('CustomerID')['ProductCategory'].transform(lambda x: x.mode()[0] if not x.mode().empty else x))\n",
    "missing_count_after = df['ProductCategory'].isnull().sum()\n",
    "print(f\"Missing ProductCategory count after fill: {missing_count_after}\")\n",
    "overall_mode = df['ProductCategory'].mode()[0]\n",
    "df['ProductCategory'] = df['ProductCategory'].fillna(overall_mode)\n",
    "remaining_missing_count = df['ProductCategory'].isnull().sum()\n",
    "print(f\"Remaining missing ProductCategory count: {remaining_missing_count}\")"
   ]
  },
  {
   "cell_type": "code",
   "execution_count": 13,
   "id": "fe46e17f-dec7-43d5-8025-a59fd09ec537",
   "metadata": {},
   "outputs": [
    {
     "name": "stdout",
     "output_type": "stream",
     "text": [
      "Remaining missing Amount count: 280\n"
     ]
    }
   ],
   "source": [
    "import pandas as pd\n",
    "data = 'C:/Users/rlumbao/Downloads/customertransaction.csv'\n",
    "df = pd.read_csv(data)\n",
    "df['Amount'] = pd.to_numeric(df['Amount'], errors='coerce')\n",
    "mean_amounts = df.groupby(['CustomerID', 'ProductCategory'])['Amount'].mean().reset_index()\n",
    "df = df.merge(mean_amounts, on=['CustomerID', 'ProductCategory'], how='left', suffixes=('', '_mean'))\n",
    "df['Amount'] = df['Amount'].fillna(df['Amount_mean'])\n",
    "df.drop(columns=['Amount_mean'], inplace=True)\n",
    "remaining_missing_count = df['Amount'].isnull().sum()\n",
    "print(f\"Remaining missing Amount count: {remaining_missing_count}\")"
   ]
  },
  {
   "cell_type": "code",
   "execution_count": 25,
   "id": "f09bd860-e305-4a3a-95ad-352b6417c74e",
   "metadata": {},
   "outputs": [
    {
     "name": "stdout",
     "output_type": "stream",
     "text": [
      "Remaining missing Amount count: 0\n"
     ]
    }
   ],
   "source": [
    "import pandas as pd\n",
    "data = 'C:/Users/rlumbao/Downloads/customertransaction.csv'\n",
    "df = pd.read_csv(data)\n",
    "df['Amount'] = pd.to_numeric(df['Amount'], errors='coerce')\n",
    "mean_amounts = df.groupby(['CustomerID', 'ProductCategory'])['Amount'].mean().reset_index()\n",
    "df = df.merge(mean_amounts, on=['CustomerID', 'ProductCategory'], how='left', suffixes=('', '_mean'))\n",
    "df['Amount'] = df['Amount'].fillna(df['Amount_mean'])\n",
    "df.drop(columns=['Amount_mean'], inplace=True)\n",
    "df['Amount'] = df['Amount'].replace(['Free'], 0)\n",
    "df['Amount'] = pd.to_numeric(df['Amount'], errors='coerce')\n",
    "mean_amounts = df.groupby(['CustomerID', 'ProductCategory'])['Amount'].mean().reset_index()\n",
    "df = df.merge(mean_amounts, on=['CustomerID', 'ProductCategory'], how='left', suffixes=('', '_mean'))\n",
    "df['Amount'] = df['Amount'].fillna(df['Amount_mean'])\n",
    "df.drop(columns=['Amount_mean'], inplace=True)\n",
    "df = df.dropna(subset=['Amount'])\n",
    "remaining_missing_count = df['Amount'].isnull().sum()\n",
    "print(f\"Remaining missing Amount count: {remaining_missing_count}\")"
   ]
  },
  {
   "cell_type": "code",
   "execution_count": 27,
   "id": "217222e3-f0bf-40ba-8e86-cdb135e109a8",
   "metadata": {},
   "outputs": [
    {
     "name": "stdout",
     "output_type": "stream",
     "text": [
      "Missing ProductCategory count: 299\n",
      "Missing ProductCategory count after fill: 111\n",
      "Remaining missing ProductCategory count: 0\n",
      "Remaining missing Amount count: 0\n",
      "Number of rows after removing duplicates: 2803\n"
     ]
    }
   ],
   "source": [
    "import pandas as pd\n",
    "data = 'C:/Users/rlumbao/Downloads/customertransaction.csv'\n",
    "df = pd.read_csv(data)\n",
    "prodcategory = df['ProductCategory']\n",
    "blank_category = df['ProductCategory'].isnull().sum()\n",
    "print(f\"Missing ProductCategory count: {blank_category}\")\n",
    "df['ProductCategory'] = df['ProductCategory'].fillna(df.groupby('CustomerID')['ProductCategory'].transform(lambda x: x.mode()[0] if not x.mode().empty else x))\n",
    "missing_count_after = df['ProductCategory'].isnull().sum()\n",
    "print(f\"Missing ProductCategory count after fill: {missing_count_after}\")\n",
    "overall_mode = df['ProductCategory'].mode()[0]\n",
    "df['ProductCategory'] = df['ProductCategory'].fillna(overall_mode)\n",
    "remaining_missing_count = df['ProductCategory'].isnull().sum()\n",
    "print(f\"Remaining missing ProductCategory count: {remaining_missing_count}\")\n",
    "df['Amount'] = df['Amount'].replace(['Free'], 0)\n",
    "df['Amount'] = pd.to_numeric(df['Amount'], errors='coerce')\n",
    "mean_amounts = df.groupby(['CustomerID', 'ProductCategory'])['Amount'].mean().reset_index()\n",
    "df = df.merge(mean_amounts, on=['CustomerID', 'ProductCategory'], how='left', suffixes=('', '_mean'))\n",
    "df['Amount'] = df['Amount'].fillna(df['Amount_mean'])\n",
    "df.drop(columns=['Amount_mean'], inplace=True)\n",
    "df = df.dropna(subset=['Amount'])\n",
    "remaining_missing_count = df['Amount'].isnull().sum()\n",
    "print(f\"Remaining missing Amount count: {remaining_missing_count}\")\n",
    "df = df.drop_duplicates()\n",
    "num_rows_after = df.shape[0]\n",
    "print(f\"Number of rows after removing duplicates: {num_rows_after}\")"
   ]
  },
  {
   "cell_type": "code",
   "execution_count": 7,
   "id": "db991b3a-6382-4487-a81e-2cf6af79c7ae",
   "metadata": {},
   "outputs": [
    {
     "name": "stdout",
     "output_type": "stream",
     "text": [
      "Missing ProductCategory count: 299\n",
      "Missing ProductCategory count after fill: 111\n",
      "Remaining missing ProductCategory count: 0\n",
      "Remaining missing Amount count: 0\n",
      "Number of rows after removing duplicates: 2803\n",
      "DataFrame has been saved to C:/Users/rlumbao/Downloads/cleaned_customer_transaction.csv\n"
     ]
    }
   ],
   "source": [
    "import pandas as pd\n",
    "data = 'C:/Users/rlumbao/Downloads/customertransaction.csv'\n",
    "df = pd.read_csv(data)\n",
    "prodcategory = df['ProductCategory']\n",
    "blank_category = df['ProductCategory'].isnull().sum()\n",
    "print(f\"Missing ProductCategory count: {blank_category}\")\n",
    "df['ProductCategory'] = df['ProductCategory'].fillna(df.groupby('CustomerID')['ProductCategory'].transform(lambda x: x.mode()[0] if not x.mode().empty else x))\n",
    "missing_count_after = df['ProductCategory'].isnull().sum()\n",
    "print(f\"Missing ProductCategory count after fill: {missing_count_after}\")\n",
    "overall_mode = df['ProductCategory'].mode()[0]\n",
    "df['ProductCategory'] = df['ProductCategory'].fillna(overall_mode)\n",
    "remaining_missing_count = df['ProductCategory'].isnull().sum()\n",
    "print(f\"Remaining missing ProductCategory count: {remaining_missing_count}\")\n",
    "df['Amount'] = df['Amount'].replace(['Free'], 0)\n",
    "df['Amount'] = pd.to_numeric(df['Amount'], errors='coerce')\n",
    "mean_amounts = df.groupby(['CustomerID', 'ProductCategory'])['Amount'].mean().reset_index()\n",
    "df = df.merge(mean_amounts, on=['CustomerID', 'ProductCategory'], how='left', suffixes=('', '_mean'))\n",
    "df['Amount'] = df['Amount'].fillna(df['Amount_mean'])\n",
    "df.drop(columns=['Amount_mean'], inplace=True)\n",
    "df['Amount'] = df['Amount'].apply(lambda x: f\"{x:.2f}\" if pd.notnull(x) else x)\n",
    "df = df.dropna(subset=['Amount'])\n",
    "remaining_missing_count = df['Amount'].isnull().sum()\n",
    "print(f\"Remaining missing Amount count: {remaining_missing_count}\")\n",
    "df = df.drop_duplicates()\n",
    "num_rows_after = df.shape[0]\n",
    "print(f\"Number of rows after removing duplicates: {num_rows_after}\")\n",
    "output_path = 'C:/Users/rlumbao/Downloads/cleaned_customer_transaction.csv'\n",
    "df.to_csv(output_path, index=False)\n",
    "print(f\"DataFrame has been saved to {output_path}\")"
   ]
  },
  {
   "cell_type": "code",
   "execution_count": null,
   "id": "fc04afd8-6708-4bb5-9fe8-c7f46b6dab7a",
   "metadata": {},
   "outputs": [],
   "source": []
  }
 ],
 "metadata": {
  "kernelspec": {
   "display_name": "Python 3 (ipykernel)",
   "language": "python",
   "name": "python3"
  },
  "language_info": {
   "codemirror_mode": {
    "name": "ipython",
    "version": 3
   },
   "file_extension": ".py",
   "mimetype": "text/x-python",
   "name": "python",
   "nbconvert_exporter": "python",
   "pygments_lexer": "ipython3",
   "version": "3.12.4"
  }
 },
 "nbformat": 4,
 "nbformat_minor": 5
}
