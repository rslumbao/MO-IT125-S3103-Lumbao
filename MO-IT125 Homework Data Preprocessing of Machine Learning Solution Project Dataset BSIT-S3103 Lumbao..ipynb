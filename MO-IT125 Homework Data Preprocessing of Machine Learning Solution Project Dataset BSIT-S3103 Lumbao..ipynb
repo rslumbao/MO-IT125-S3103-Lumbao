{
 "cells": [
  {
   "cell_type": "code",
   "execution_count": 1,
   "id": "59411ce6-a587-44dd-bbcf-c997e43f639a",
   "metadata": {},
   "outputs": [
    {
     "name": "stdout",
     "output_type": "stream",
     "text": [
      "Amount             304\n",
      "ProductCategory    299\n",
      "dtype: int64\n"
     ]
    }
   ],
   "source": [
    "import pandas as pd\n",
    "data = 'C:/Users/rlumbao/Downloads/customertransaction.csv'\n",
    "df = pd.read_csv(data)\n",
    "missing_values = df.isnull().sum()\n",
    "missing_summary = missing_values[missing_values > 0]\n",
    "print(missing_summary)"
   ]
  },
  {
   "cell_type": "code",
   "execution_count": 3,
   "id": "9bb81273-30a5-4f43-9a4c-ff0565ea89e1",
   "metadata": {},
   "outputs": [
    {
     "name": "stdout",
     "output_type": "stream",
     "text": [
      "Missing ProductCategory count: 299\n",
      "Missing ProductCategory count after fill: 111\n"
     ]
    }
   ],
   "source": [
    "import pandas as pd\n",
    "data = 'C:/Users/rlumbao/Downloads/customertransaction.csv'\n",
    "df = pd.read_csv(data)\n",
    "prodcategory = df['ProductCategory']\n",
    "blank_category = df['ProductCategory'].isnull().sum()\n",
    "print(f\"Missing ProductCategory count: {blank_category}\")\n",
    "df['ProductCategory'] = df['ProductCategory'].fillna(df.groupby('CustomerID')['ProductCategory'].transform(lambda x: x.mode()[0] if not x.mode().empty else x))\n",
    "missing_count_after = df['ProductCategory'].isnull().sum()\n",
    "print(f\"Missing ProductCategory count after fill: {missing_count_after}\")"
   ]
  },
  {
   "cell_type": "code",
   "execution_count": 5,
   "id": "3cb7f649-36a1-4e4a-a835-46f12bfddea1",
   "metadata": {},
   "outputs": [
    {
     "name": "stdout",
     "output_type": "stream",
     "text": [
      "Missing ProductCategory count: 299\n",
      "Missing ProductCategory count after fill: 111\n",
      "Remaining missing ProductCategory count: 0\n"
     ]
    }
   ],
   "source": [
    "import pandas as pd\n",
    "data = 'C:/Users/rlumbao/Downloads/customertransaction.csv'\n",
    "df = pd.read_csv(data)\n",
    "prodcategory = df['ProductCategory']\n",
    "blank_category = df['ProductCategory'].isnull().sum()\n",
    "print(f\"Missing ProductCategory count: {blank_category}\")\n",
    "df['ProductCategory'] = df['ProductCategory'].fillna(df.groupby('CustomerID')['ProductCategory'].transform(lambda x: x.mode()[0] if not x.mode().empty else x))\n",
    "missing_count_after = df['ProductCategory'].isnull().sum()\n",
    "print(f\"Missing ProductCategory count after fill: {missing_count_after}\")\n",
    "overall_mode = df['ProductCategory'].mode()[0]\n",
    "df['ProductCategory'] = df['ProductCategory'].fillna(overall_mode)\n",
    "remaining_missing_count = df['ProductCategory'].isnull().sum()\n",
    "print(f\"Remaining missing ProductCategory count: {remaining_missing_count}\")"
   ]
  },
  {
   "cell_type": "code",
   "execution_count": 7,
   "id": "730043c1-c0f3-4dcb-be61-c51e21234bbe",
   "metadata": {},
   "outputs": [
    {
     "name": "stdout",
     "output_type": "stream",
     "text": [
      "Missing ProductCategory count: 299\n",
      "Missing ProductCategory count after fill: 111\n",
      "Remaining missing ProductCategory count: 0\n",
      "Remaining missing Amount count: 0\n",
      "Number of rows after removing duplicates: 2803\n"
     ]
    }
   ],
   "source": [
    "import pandas as pd\n",
    "data = 'C:/Users/rlumbao/Downloads/customertransaction.csv'\n",
    "df = pd.read_csv(data)\n",
    "prodcategory = df['ProductCategory']\n",
    "blank_category = df['ProductCategory'].isnull().sum()\n",
    "print(f\"Missing ProductCategory count: {blank_category}\")\n",
    "df['ProductCategory'] = df['ProductCategory'].fillna(df.groupby('CustomerID')['ProductCategory'].transform(lambda x: x.mode()[0] if not x.mode().empty else x))\n",
    "missing_count_after = df['ProductCategory'].isnull().sum()\n",
    "print(f\"Missing ProductCategory count after fill: {missing_count_after}\")\n",
    "overall_mode = df['ProductCategory'].mode()[0]\n",
    "df['ProductCategory'] = df['ProductCategory'].fillna(overall_mode)\n",
    "remaining_missing_count = df['ProductCategory'].isnull().sum()\n",
    "print(f\"Remaining missing ProductCategory count: {remaining_missing_count}\")\n",
    "df['Amount'] = df['Amount'].replace(['Free'], 0)\n",
    "df['Amount'] = pd.to_numeric(df['Amount'], errors='coerce')\n",
    "mean_amounts = df.groupby(['CustomerID', 'ProductCategory'])['Amount'].mean().reset_index()\n",
    "df = df.merge(mean_amounts, on=['CustomerID', 'ProductCategory'], how='left', suffixes=('', '_mean'))\n",
    "df['Amount'] = df['Amount'].fillna(df['Amount_mean'])\n",
    "df.drop(columns=['Amount_mean'], inplace=True)\n",
    "df = df.dropna(subset=['Amount'])\n",
    "remaining_missing_count = df['Amount'].isnull().sum()\n",
    "print(f\"Remaining missing Amount count: {remaining_missing_count}\")\n",
    "df = df.drop_duplicates()\n",
    "num_rows_after = df.shape[0]\n",
    "print(f\"Number of rows after removing duplicates: {num_rows_after}\")"
   ]
  },
  {
   "cell_type": "code",
   "execution_count": 9,
   "id": "efbf8813-f42f-4768-b5a6-d1c27a316a84",
   "metadata": {},
   "outputs": [
    {
     "name": "stdout",
     "output_type": "stream",
     "text": [
      "Frequency counts for ProductCategory:\n",
      " ProductCategory\n",
      "Clothing           598\n",
      "Electronics        595\n",
      "Automotive         576\n",
      "Health & Beauty    570\n",
      "Home & Garden      562\n",
      "Name: count, dtype: int64\n",
      "Frequency counts for PaymentMethod:\n",
      " PaymentMethod\n",
      "Debit Card       809\n",
      "Credit Card      804\n",
      "PayPal           794\n",
      "Bank Transfer    793\n",
      "Name: count, dtype: int64\n"
     ]
    }
   ],
   "source": [
    "import pandas as pd\n",
    "data = 'C:/Users/rlumbao/Downloads/customertransaction.csv'\n",
    "df = pd.read_csv(data)\n",
    "product_category_counts = df['ProductCategory'].value_counts()\n",
    "print(\"Frequency counts for ProductCategory:\\n\", product_category_counts)\n",
    "payment_method_counts = df['PaymentMethod'].value_counts()\n",
    "print(\"Frequency counts for PaymentMethod:\\n\", payment_method_counts)"
   ]
  },
  {
   "cell_type": "code",
   "execution_count": 11,
   "id": "fb309322-c951-4b74-b4e4-c9b59efa203c",
   "metadata": {},
   "outputs": [
    {
     "name": "stdout",
     "output_type": "stream",
     "text": [
      "Missing ProductCategory count: 299\n",
      "Missing ProductCategory count after fill: 111\n",
      "Remaining missing ProductCategory count: 0\n",
      "Remaining missing Amount count: 0\n",
      "Number of rows after removing duplicates: 2803\n",
      "DataFrame has been saved to C:/Users/rlumbao/Downloads/cleaned_customer_transaction.csv\n"
     ]
    }
   ],
   "source": [
    "import pandas as pd\n",
    "data = 'C:/Users/rlumbao/Downloads/customertransaction.csv'\n",
    "df = pd.read_csv(data)\n",
    "prodcategory = df['ProductCategory']\n",
    "blank_category = df['ProductCategory'].isnull().sum()\n",
    "print(f\"Missing ProductCategory count: {blank_category}\")\n",
    "df['ProductCategory'] = df['ProductCategory'].fillna(df.groupby('CustomerID')['ProductCategory'].transform(lambda x: x.mode()[0] if not x.mode().empty else x))\n",
    "missing_count_after = df['ProductCategory'].isnull().sum()\n",
    "print(f\"Missing ProductCategory count after fill: {missing_count_after}\")\n",
    "overall_mode = df['ProductCategory'].mode()[0]\n",
    "df['ProductCategory'] = df['ProductCategory'].fillna(overall_mode)\n",
    "remaining_missing_count = df['ProductCategory'].isnull().sum()\n",
    "print(f\"Remaining missing ProductCategory count: {remaining_missing_count}\")\n",
    "df['Amount'] = df['Amount'].replace(['Free'], 0)\n",
    "df['Amount'] = pd.to_numeric(df['Amount'], errors='coerce')\n",
    "mean_amounts = df.groupby(['CustomerID', 'ProductCategory'])['Amount'].mean().reset_index()\n",
    "df = df.merge(mean_amounts, on=['CustomerID', 'ProductCategory'], how='left', suffixes=('', '_mean'))\n",
    "df['Amount'] = df['Amount'].fillna(df['Amount_mean'])\n",
    "df.drop(columns=['Amount_mean'], inplace=True)\n",
    "df = df.dropna(subset=['Amount'])\n",
    "remaining_missing_count = df['Amount'].isnull().sum()\n",
    "print(f\"Remaining missing Amount count: {remaining_missing_count}\")\n",
    "df = df.drop_duplicates()\n",
    "num_rows_after = df.shape[0]\n",
    "print(f\"Number of rows after removing duplicates: {num_rows_after}\")\n",
    "output_path = 'C:/Users/rlumbao/Downloads/cleaned_customer_transaction.csv'\n",
    "df.to_csv(output_path, index=False)\n",
    "print(f\"DataFrame has been saved to {output_path}\")"
   ]
  },
  {
   "cell_type": "code",
   "execution_count": null,
   "id": "ec1408cc-84ee-4d5e-9feb-006624c09a42",
   "metadata": {},
   "outputs": [],
   "source": []
  }
 ],
 "metadata": {
  "kernelspec": {
   "display_name": "Python 3 (ipykernel)",
   "language": "python",
   "name": "python3"
  },
  "language_info": {
   "codemirror_mode": {
    "name": "ipython",
    "version": 3
   },
   "file_extension": ".py",
   "mimetype": "text/x-python",
   "name": "python",
   "nbconvert_exporter": "python",
   "pygments_lexer": "ipython3",
   "version": "3.12.4"
  }
 },
 "nbformat": 4,
 "nbformat_minor": 5
}
